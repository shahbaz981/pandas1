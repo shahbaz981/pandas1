{
 "cells": [
  {
   "cell_type": "code",
   "execution_count": 5,
   "id": "845f38de-452b-43c7-9118-d7f29f550f5f",
   "metadata": {},
   "outputs": [
    {
     "name": "stdout",
     "output_type": "stream",
     "text": [
      "0     4\n",
      "1     8\n",
      "2    15\n",
      "3    16\n",
      "4    23\n",
      "5    42\n",
      "dtype: int64\n"
     ]
    }
   ],
   "source": [
    "'''[Q1-answer:-]'''\n",
    "\n",
    "#Q1. Create a Pandas Series that contains the following data: 4, 8, 15, 16, 23, and 42. Then, print the series.\n",
    "\n",
    "import pandas as pd\n",
    "s = pd.Series([4,8,15,16,23,42])\n",
    "print(s)\n"
   ]
  },
  {
   "cell_type": "code",
   "execution_count": 6,
   "id": "3bd5fe76-ef28-4bc1-9db5-171edc481c7d",
   "metadata": {},
   "outputs": [
    {
     "data": {
      "text/plain": [
       "0     1\n",
       "1     2\n",
       "2     3\n",
       "3     4\n",
       "4     5\n",
       "5     6\n",
       "6     7\n",
       "7     8\n",
       "8     9\n",
       "9    10\n",
       "dtype: int64"
      ]
     },
     "execution_count": 6,
     "metadata": {},
     "output_type": "execute_result"
    }
   ],
   "source": [
    "'''[Q2-answer:-]'''\n",
    "\n",
    "#Q2. Create a variable of list type containing 10 elements in it, and apply pandas.Series function on the variable print it.\n",
    "\n",
    "data =[1,2,3,4,5,6,7,8,9,10]\n",
    "pd.Series(data)\n"
   ]
  },
  {
   "cell_type": "code",
   "execution_count": 25,
   "id": "27a20615-4663-4f6d-a9c9-fa8e1a1c28de",
   "metadata": {},
   "outputs": [
    {
     "data": {
      "text/html": [
       "<div>\n",
       "<style scoped>\n",
       "    .dataframe tbody tr th:only-of-type {\n",
       "        vertical-align: middle;\n",
       "    }\n",
       "\n",
       "    .dataframe tbody tr th {\n",
       "        vertical-align: top;\n",
       "    }\n",
       "\n",
       "    .dataframe thead th {\n",
       "        text-align: right;\n",
       "    }\n",
       "</style>\n",
       "<table border=\"1\" class=\"dataframe\">\n",
       "  <thead>\n",
       "    <tr style=\"text-align: right;\">\n",
       "      <th></th>\n",
       "      <th>Name</th>\n",
       "      <th>Age</th>\n",
       "      <th>Gender</th>\n",
       "    </tr>\n",
       "  </thead>\n",
       "  <tbody>\n",
       "    <tr>\n",
       "      <th>0</th>\n",
       "      <td>Alice</td>\n",
       "      <td>25</td>\n",
       "      <td>Female</td>\n",
       "    </tr>\n",
       "    <tr>\n",
       "      <th>1</th>\n",
       "      <td>Bob</td>\n",
       "      <td>30</td>\n",
       "      <td>Male</td>\n",
       "    </tr>\n",
       "    <tr>\n",
       "      <th>2</th>\n",
       "      <td>Clair</td>\n",
       "      <td>27</td>\n",
       "      <td>Female</td>\n",
       "    </tr>\n",
       "  </tbody>\n",
       "</table>\n",
       "</div>"
      ],
      "text/plain": [
       "    Name  Age  Gender\n",
       "0  Alice   25  Female\n",
       "1    Bob   30    Male\n",
       "2  Clair   27  Female"
      ]
     },
     "execution_count": 25,
     "metadata": {},
     "output_type": "execute_result"
    }
   ],
   "source": [
    "'''[Q3-answer:-]'''\n",
    "\n",
    "#Q3. Create a Pandas DataFrame that contains the following data: Then, print the DataFrame.\n",
    "\n",
    "data_frame = {'Name':['Alice','Bob','Clair'],'Age':[25,30,27],'Gender':['Female','Male','Female']}\n",
    "pd.DataFrame(data_frame)"
   ]
  },
  {
   "cell_type": "code",
   "execution_count": 29,
   "id": "e68d9754-11dc-4807-8065-9f9a6cea19ff",
   "metadata": {},
   "outputs": [
    {
     "name": "stdout",
     "output_type": "stream",
     "text": [
      "Series:\n",
      "0    1\n",
      "1    2\n",
      "2    3\n",
      "3    4\n",
      "Name: MySeries, dtype: int64\n",
      "\n",
      "\n",
      "DataFrame:\n",
      "   Column1 Column2\n",
      "0        1       A\n",
      "1        2       B\n",
      "2        3       C\n",
      "3        4       D\n"
     ]
    }
   ],
   "source": [
    "'''[Q4-answer:-]'''\n",
    "\n",
    "#Q4. What is ‘DataFrame’ in pandas and how is it different from pandas.series? Explain with an example.\n",
    "\n",
    "'''\n",
    "\n",
    "In pandas, a DataFrame is a two-dimensional, tabular data structure that is designed to store and manipulate heterogeneous\n",
    "data.It can be thought of as a collection of Series objects aligned along a common index. Each column in a DataFrame is a \n",
    "pandas Series. A DataFrame provides a way to organize and structure data, making it easy to perform various data\n",
    "manipulations and analyses.\n",
    "\n",
    "On the other hand, a Series is a one-dimensional labeled array capable of holding any data type. It is essentially a \n",
    "single column of data with an associated index. A DataFrame, being a two-dimensional structure, can be seen as a container \n",
    "for multiple Series objects.\n",
    "\n",
    "Let's illustrate the difference with an example:\n",
    "'''\n",
    "import pandas as pd\n",
    "\n",
    "# Creating a Series\n",
    "series_data = pd.Series([1, 2, 3, 4], name='MySeries')\n",
    "\n",
    "# Creating a DataFrame\n",
    "df_data = pd.DataFrame({'Column1': [1, 2, 3, 4], 'Column2': ['A', 'B', 'C', 'D']})\n",
    "\n",
    "# Displaying the Series\n",
    "print(\"Series:\")\n",
    "print(series_data)\n",
    "print(\"\\n\")\n",
    "\n",
    "# Displaying the DataFrame\n",
    "print(\"DataFrame:\")\n",
    "print(df_data)\n"
   ]
  },
  {
   "cell_type": "code",
   "execution_count": 27,
   "id": "66bc3756-2331-4b20-9a7c-0b576f640e07",
   "metadata": {},
   "outputs": [
    {
     "data": {
      "text/plain": [
       "'[Q3-answer:-]'"
      ]
     },
     "execution_count": 27,
     "metadata": {},
     "output_type": "execute_result"
    }
   ],
   "source": [
    "'''[Q5-answer:-]'''\n",
    "\n",
    "#Q5. What are some common functions you can use to manipulate data in a Pandas DataFrame? Can you give an example of when you might use one of these functions?\n",
    "\n",
    "'''\n",
    "Pandas provides a variety of functions for manipulating data in a DataFrame. Here are some common functions:\n",
    "\n",
    "1. head() and tail():-\n",
    "->head(n) returns the first n rows of the DataFrame.\n",
    "->tail(n) returns the last n rows of the DataFrame.\n",
    "'''\n",
    "# Example\n",
    "df.head(3)  # Returns the first 3 rows of the DataFrame\n",
    "df.tail(3) # Returns the last 3 rows of the DataFrame\n",
    "\n",
    "'''\n",
    "2. info():\n",
    "info() provides a concise summary of the DataFrame, including data types, non-null values, and memory usage.\n",
    "'''\n",
    "# Example\n",
    "df.info()\n",
    "\n",
    "'''\n",
    "3. describe():\n",
    "describe() computes various summary statistics, such as mean, standard deviation, minimum, and maximum.\n",
    "'''\n",
    "# Example\n",
    "df.describe()\n",
    "\n",
    "'''\n",
    "4. shape:\n",
    "shape returns a tuple representing the dimensions of the DataFrame (number of rows, number of columns).\n",
    "'''\n",
    "# Example\n",
    "print(df.shape)  # Outputs (number_of_rows, number_of_columns)\n",
    "\n",
    "'''\n",
    "5. loc and iloc:\n",
    "loc is used for label-based indexing, and iloc is used for integer-location based indexing.\n",
    "'''\n",
    "# Example\n",
    "df.loc[0, 'ColumnName']  # Access value at row 0 and column 'ColumnName'\n",
    "df.iloc[0, 1]            # Access value at row 0 and column index 1\n",
    "\n",
    "'''\n",
    "6. drop():\n",
    "drop(labels, axis) is used to drop specified labels from rows or columns.\n",
    "'''\n",
    "# Example\n",
    "df.drop('ColumnName', axis=1, inplace=True)  # Drops the specified column\n",
    "\n",
    "'''\n",
    "7. groupby():\n",
    "groupby() is used for grouping data based on some criteria and applying a function to the groups.\n",
    "'''\n",
    "# Example\n",
    "grouped_data = df.groupby('Category')['Value'].mean()  # Calculate the mean value for each category\n",
    "\n",
    "'''\n",
    "8. merge():\n",
    "merge() is used for combining two DataFrames based on a common column.\n",
    "'''\n",
    "# Example\n",
    "merged_df = pd.merge(df1, df2, on='common_column', how='inner')  # Inner join based on a common column\n",
    "\n",
    "\n"
   ]
  },
  {
   "cell_type": "code",
   "execution_count": 3,
   "id": "89906604-a0ea-4a98-ad84-d785e830a1ac",
   "metadata": {},
   "outputs": [
    {
     "data": {
      "text/plain": [
       "'[Q6-answer:-]'"
      ]
     },
     "execution_count": 3,
     "metadata": {},
     "output_type": "execute_result"
    }
   ],
   "source": [
    "'''[Q6-answer:-]'''\n",
    "#Q6. Which of the following is mutable in nature Series, DataFrame, Panel?\n",
    "\n",
    "'''\n",
    "In Pandas, the Series and DataFrame are mutable, while the Panel is not.\n",
    "\n",
    "    ->Series: Mutable. You can modify the values of a Series after it has been created.\n",
    "    ->DataFrame: Mutable. You can add, remove, or modify columns and rows in a DataFrame.\n",
    "    ->Panel: Deprecated. In recent versions of Pandas, the Panel data structure has been deprecated and is no longer recommended for use. It has been replaced by the more powerful and flexible MultiIndex DataFrame or other data structures.\n",
    "\n",
    "For practical purposes, you should focus on using Series and DataFrame in modern Pandas applications.\n",
    "'''"
   ]
  },
  {
   "cell_type": "code",
   "execution_count": 7,
   "id": "e40ea901-0aa0-4410-b487-227d943c47e1",
   "metadata": {},
   "outputs": [
    {
     "data": {
      "text/html": [
       "<div>\n",
       "<style scoped>\n",
       "    .dataframe tbody tr th:only-of-type {\n",
       "        vertical-align: middle;\n",
       "    }\n",
       "\n",
       "    .dataframe tbody tr th {\n",
       "        vertical-align: top;\n",
       "    }\n",
       "\n",
       "    .dataframe thead th {\n",
       "        text-align: right;\n",
       "    }\n",
       "</style>\n",
       "<table border=\"1\" class=\"dataframe\">\n",
       "  <thead>\n",
       "    <tr style=\"text-align: right;\">\n",
       "      <th></th>\n",
       "      <th>Name</th>\n",
       "      <th>Age</th>\n",
       "      <th>City</th>\n",
       "    </tr>\n",
       "  </thead>\n",
       "  <tbody>\n",
       "    <tr>\n",
       "      <th>0</th>\n",
       "      <td>Alice</td>\n",
       "      <td>25</td>\n",
       "      <td>New York</td>\n",
       "    </tr>\n",
       "    <tr>\n",
       "      <th>1</th>\n",
       "      <td>Bob</td>\n",
       "      <td>34</td>\n",
       "      <td>San Francisco</td>\n",
       "    </tr>\n",
       "    <tr>\n",
       "      <th>2</th>\n",
       "      <td>Charlie</td>\n",
       "      <td>26</td>\n",
       "      <td>Los Angeles</td>\n",
       "    </tr>\n",
       "  </tbody>\n",
       "</table>\n",
       "</div>"
      ],
      "text/plain": [
       "      Name  Age           City\n",
       "0    Alice   25       New York\n",
       "1      Bob   34  San Francisco\n",
       "2  Charlie   26    Los Angeles"
      ]
     },
     "execution_count": 7,
     "metadata": {},
     "output_type": "execute_result"
    }
   ],
   "source": [
    "'''[Q7-answer:-]'''\n",
    "\n",
    "#Q7. Create a DataFrame using multiple Series. Explain with an example.\n",
    "\n",
    "name_series = pd.Series(['Alice', 'Bob', 'Charlie'])\n",
    "age_series = pd.Series([25,34,26])\n",
    "city_series = pd.Series(['New York','San Francisco', 'Los Angeles'])\n",
    "\n",
    "pd.DataFrame({'Name':name_series,'Age':age_series,'City':city_series})"
   ]
  }
 ],
 "metadata": {
  "kernelspec": {
   "display_name": "Python 3 (ipykernel)",
   "language": "python",
   "name": "python3"
  },
  "language_info": {
   "codemirror_mode": {
    "name": "ipython",
    "version": 3
   },
   "file_extension": ".py",
   "mimetype": "text/x-python",
   "name": "python",
   "nbconvert_exporter": "python",
   "pygments_lexer": "ipython3",
   "version": "3.10.8"
  }
 },
 "nbformat": 4,
 "nbformat_minor": 5
}
